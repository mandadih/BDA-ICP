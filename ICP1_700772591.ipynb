{
  "nbformat": 4,
  "nbformat_minor": 0,
  "metadata": {
    "colab": {
      "provenance": [],
      "authorship_tag": "ABX9TyPSavJ4e6PpnJ2GTf8wUYVL",
      "include_colab_link": true
    },
    "kernelspec": {
      "name": "python3",
      "display_name": "Python 3"
    },
    "language_info": {
      "name": "python"
    }
  },
  "cells": [
    {
      "cell_type": "markdown",
      "metadata": {
        "id": "view-in-github",
        "colab_type": "text"
      },
      "source": [
        "<a href=\"https://colab.research.google.com/github/mandadih/BDA-ICP/blob/main/ICP1_700772591.ipynb\" target=\"_parent\"><img src=\"https://colab.research.google.com/assets/colab-badge.svg\" alt=\"Open In Colab\"/></a>"
      ]
    },
    {
      "cell_type": "code",
      "execution_count": 1,
      "metadata": {
        "colab": {
          "base_uri": "https://localhost:8080/"
        },
        "id": "j93MyGF1KM9u",
        "outputId": "9da4f094-cef2-4126-cecd-c12b792dbcbc"
      },
      "outputs": [
        {
          "output_type": "stream",
          "name": "stdout",
          "text": [
            "Mounted at /content/drive\n"
          ]
        }
      ],
      "source": [
        "from google.colab import drive\n",
        "drive.mount('/content/drive')\n"
      ]
    },
    {
      "cell_type": "code",
      "source": [
        "A = list('BIGDATA')\n",
        "\n",
        "print(f\"Original list: {A}\")\n",
        "\n",
        "\n",
        "del A[1]\n",
        "del A[2]\n",
        "\n",
        "print(f\"After deletion: {A}\")\n",
        "\n",
        "\n",
        "A.reverse()\n",
        "\n",
        "\n",
        "result_str = ''.join(A)\n",
        "\n",
        "\n",
        "print(f\"Reversed string after deletion: {result_str}\")"
      ],
      "metadata": {
        "colab": {
          "base_uri": "https://localhost:8080/"
        },
        "id": "IhIWfAjDKXV-",
        "outputId": "8b8ae467-2a59-4742-d544-7706150e8fc7"
      },
      "execution_count": 8,
      "outputs": [
        {
          "output_type": "stream",
          "name": "stdout",
          "text": [
            "Original list: ['B', 'I', 'G', 'D', 'A', 'T', 'A']\n",
            "After deletion: ['B', 'G', 'A', 'T', 'A']\n",
            "Reversed string after deletion: ATAGB\n"
          ]
        }
      ]
    },
    {
      "cell_type": "code",
      "source": [
        "num1 = float(input(\"Enter first number: \"))\n",
        "num2 = float(input(\"Enter second number: \"))\n",
        "\n",
        "\n",
        "addition = num1 + num2\n",
        "subtraction = num1 - num2\n",
        "multiplication = num1 * num2\n",
        "\n",
        "\n",
        "if num2 != 0:\n",
        "    division = num1 / num2\n",
        "else:\n",
        "    division = \"undefined (cannot divide by zero)\"\n",
        "\n",
        "\n",
        "print(f\"Addition: {addition}\")\n",
        "print(f\"Subtraction: {subtraction}\")\n",
        "print(f\"Multiplication: {multiplication}\")\n",
        "print(f\"Division: {division}\")\n"
      ],
      "metadata": {
        "colab": {
          "base_uri": "https://localhost:8080/"
        },
        "id": "yzPKbIxFKaMi",
        "outputId": "82cdf3d4-65d7-4b85-eb4c-e27a3ac4d1a8"
      },
      "execution_count": 9,
      "outputs": [
        {
          "output_type": "stream",
          "name": "stdout",
          "text": [
            "Enter first number: 10\n",
            "Enter second number: 20\n",
            "Addition: 30.0\n",
            "Subtraction: -10.0\n",
            "Multiplication: 200.0\n",
            "Division: 0.5\n"
          ]
        }
      ]
    },
    {
      "cell_type": "code",
      "source": [
        "\n",
        "sentence = input(\"Enter a sentence: \")\n",
        "\n",
        "\n",
        "updated_sentence = sentence.replace('chocolate', 'chocolates')\n",
        "\n",
        "\n",
        "print(\"Updated sentence:\", updated_sentence)\n"
      ],
      "metadata": {
        "colab": {
          "base_uri": "https://localhost:8080/"
        },
        "id": "mAQx_7KpKdZM",
        "outputId": "260386ee-0e08-4c23-e294-effa5f5c8c23"
      },
      "execution_count": 10,
      "outputs": [
        {
          "output_type": "stream",
          "name": "stdout",
          "text": [
            "Enter a sentence: i love chocolate\n",
            "Updated sentence: i love chocolates\n"
          ]
        }
      ]
    },
    {
      "cell_type": "code",
      "source": [
        "score = float(input(\"Enter your class score: \"))\n",
        "\n",
        "if score >= 90:\n",
        "    grade = 'A'\n",
        "elif score >= 80:\n",
        "    grade = 'B'\n",
        "elif score >= 70:\n",
        "    grade = 'C'\n",
        "elif score >= 60:\n",
        "    grade = 'D'\n",
        "else:\n",
        "    grade = 'F'\n",
        "\n",
        "\n",
        "print(f\"Your grade is: {grade}\")"
      ],
      "metadata": {
        "colab": {
          "base_uri": "https://localhost:8080/"
        },
        "id": "brjHftckKq_R",
        "outputId": "3ee636a8-264c-4d7a-c4f2-f71e861fa316"
      },
      "execution_count": 11,
      "outputs": [
        {
          "output_type": "stream",
          "name": "stdout",
          "text": [
            "Enter your class score: 75\n",
            "Your grade is: C\n"
          ]
        }
      ]
    },
    {
      "cell_type": "code",
      "source": [
        "x = [23, 'Python', 23.67]\n",
        "\n",
        "\n",
        "types_list = [type(item) for item in x]\n",
        "\n",
        "\n",
        "print(x)\n",
        "print(types_list)\n",
        "\n",
        "\n"
      ],
      "metadata": {
        "colab": {
          "base_uri": "https://localhost:8080/"
        },
        "id": "pxNjxTmYKwUa",
        "outputId": "61aacd69-d7aa-464f-9254-317693cf5c65"
      },
      "execution_count": 13,
      "outputs": [
        {
          "output_type": "stream",
          "name": "stdout",
          "text": [
            "[23, 'Python', 23.67]\n",
            "[<class 'int'>, <class 'str'>, <class 'float'>]\n"
          ]
        }
      ]
    },
    {
      "cell_type": "code",
      "source": [
        "IT_companies = {'Facebook', 'Google', 'Microsoft', 'Apple', 'IBM', 'Oracle', 'Amazon'}\n",
        "A = {19, 22, 24, 20, 25, 26}\n",
        "B = {19, 22, 20, 25, 26, 24, 28, 27}\n",
        "age = [22, 19, 24, 25, 26, 24, 25, 24]\n",
        "\n",
        "print(len(IT_companies))\n",
        "\n",
        "IT_companies.add('Twitter')\n",
        "print(IT_companies)\n",
        "\n",
        "IT_companies.update(['LinkedIn', 'Snapchat'])\n",
        "print(IT_companies)\n",
        "\n",
        "IT_companies.remove('IBM')\n",
        "print(IT_companies)\n",
        "\n",
        "IT_companies.discard('XYZ')\n",
        "\n",
        "print(A.union(B))\n",
        "print(A.intersection(B))\n",
        "print(A.issubset(B))\n",
        "print(A.isdisjoint(B))\n",
        "print(A.union(B))\n",
        "print(B.union(A))\n",
        "print(A.symmetric_difference(B))\n",
        "\n",
        "del A\n",
        "del B\n",
        "\n",
        "age_set = set(age)\n",
        "print(len(age))\n",
        "print(len(age_set))"
      ],
      "metadata": {
        "colab": {
          "base_uri": "https://localhost:8080/"
        },
        "id": "dtRAL3wZKz2b",
        "outputId": "c6b9e906-6a76-4db3-97ca-27f2737e9989"
      },
      "execution_count": 7,
      "outputs": [
        {
          "output_type": "stream",
          "name": "stdout",
          "text": [
            "7\n",
            "{'Facebook', 'Amazon', 'Apple', 'IBM', 'Google', 'Oracle', 'Twitter', 'Microsoft'}\n",
            "{'Snapchat', 'LinkedIn', 'Google', 'Facebook', 'IBM', 'Twitter', 'Amazon', 'Microsoft', 'Apple', 'Oracle'}\n",
            "{'Snapchat', 'LinkedIn', 'Google', 'Facebook', 'Twitter', 'Amazon', 'Microsoft', 'Apple', 'Oracle'}\n",
            "{19, 20, 22, 24, 25, 26, 27, 28}\n",
            "{19, 20, 22, 24, 25, 26}\n",
            "True\n",
            "False\n",
            "{19, 20, 22, 24, 25, 26, 27, 28}\n",
            "{19, 20, 22, 24, 25, 26, 27, 28}\n",
            "{27, 28}\n",
            "8\n",
            "5\n"
          ]
        }
      ]
    }
  ]
}