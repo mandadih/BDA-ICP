{
  "nbformat": 4,
  "nbformat_minor": 0,
  "metadata": {
    "colab": {
      "provenance": [],
      "authorship_tag": "ABX9TyO3CNompAu7H+95+jf5nEoW",
      "include_colab_link": true
    },
    "kernelspec": {
      "name": "python3",
      "display_name": "Python 3"
    },
    "language_info": {
      "name": "python"
    }
  },
  "cells": [
    {
      "cell_type": "markdown",
      "metadata": {
        "id": "view-in-github",
        "colab_type": "text"
      },
      "source": [
        "<a href=\"https://colab.research.google.com/github/mandadih/BDA-ICP/blob/main/ICP2.ipynb\" target=\"_parent\"><img src=\"https://colab.research.google.com/assets/colab-badge.svg\" alt=\"Open In Colab\"/></a>"
      ]
    },
    {
      "cell_type": "markdown",
      "source": [
        "\n",
        "              TASK 1\n",
        "              \n",
        "\n",
        "a.Explain the difference between Counter.count and self._count.\n",
        "- `Counter.count`: Class variable, shared by all instances.\n",
        "- `self._count`: Instance variable, unique to each object.\n",
        "\n",
        "b.What is the output of a.get_counts() and b.get_counts()?\n",
        "- `a.get_counts()` → `Instance count: 2, Class count: 3`\n",
        "- `b.get_counts()` → `Instance count: 1, Class count: 3`\n",
        "\n",
        "c. How does the increment method affect both the class and instance variables?\n",
        "\n",
        "The `increment` method increases both:\n",
        "- The instance variable (`self._count`) for that object.\n",
        "- The class variable (`Counter.count`) for all instances.\n",
        "\n"
      ],
      "metadata": {
        "id": "K6zu_VB5ugCw"
      }
    },
    {
      "cell_type": "markdown",
      "source": [],
      "metadata": {
        "id": "-gNnzel6u6BR"
      }
    },
    {
      "cell_type": "code",
      "source": [
        "def sum_all(*args):\n",
        "    return sum(args)\n",
        "\n",
        "print(\"Sum of 1, 2, 3 is:\", sum_all(1, 2, 3))\n",
        "print(\"Sum of 4, 5, 6, 7 is:\", sum_all(4, 5, 6, 7))\n"
      ],
      "metadata": {
        "colab": {
          "base_uri": "https://localhost:8080/"
        },
        "id": "r6HGJUAPvhmn",
        "outputId": "07600009-63a2-4d3b-faf5-1cf3d31dd427"
      },
      "execution_count": 7,
      "outputs": [
        {
          "output_type": "stream",
          "name": "stdout",
          "text": [
            "Sum of 1, 2, 3 is: 6\n",
            "Sum of 4, 5, 6, 7 is: 22\n"
          ]
        }
      ]
    },
    {
      "cell_type": "code",
      "source": [
        "def first_word(words):\n",
        "    words.sort()\n",
        "    return words[0]\n",
        "\n",
        "students = ['Mary', 'Zelda', 'Jimmy', 'Jack', 'Bartholomew', 'Gertrude']\n",
        "print(first_word(students))\n"
      ],
      "metadata": {
        "colab": {
          "base_uri": "https://localhost:8080/"
        },
        "id": "51Jycn2nwW8Z",
        "outputId": "f4f920d1-bc87-4d8e-9ef1-b164dfdbf26c"
      },
      "execution_count": 8,
      "outputs": [
        {
          "output_type": "stream",
          "name": "stdout",
          "text": [
            "Bartholomew\n"
          ]
        }
      ]
    },
    {
      "cell_type": "code",
      "source": [
        "class Employee:\n",
        "    employee_count = 0\n",
        "\n",
        "    def __init__(self, name, family, salary, department):\n",
        "        self.name = name\n",
        "        self.family = family\n",
        "        self.salary = salary\n",
        "        self.department = department\n",
        "        Employee.employee_count += 1\n",
        "\n",
        "    @staticmethod\n",
        "    def average_salary(employees):\n",
        "        total_salary = sum(emp.salary for emp in employees)\n",
        "        return total_salary / len(employees)\n",
        "\n",
        "class FulltimeEmployee(Employee):\n",
        "    def __init__(self, name, family, salary, department):\n",
        "        super().__init__(name, family, salary, department)\n",
        "\n",
        "emp1 = Employee(\"Alice\", \"Smith\", 50000, \"HR\")\n",
        "emp2 = FulltimeEmployee(\"Bob\", \"Johnson\", 60000, \"Engineering\")\n",
        "emp3 = FulltimeEmployee(\"Charlie\", \"Williams\", 55000, \"Finance\")\n",
        "\n",
        "employee_list = [emp1, emp2, emp3]\n",
        "\n",
        "print(f\"Total Employees: {Employee.employee_count}\")\n",
        "print(f\"Average Salary: ${Employee.average_salary(employee_list)}\")\n",
        "\n",
        "for emp in employee_list:\n",
        "    print(f\"{emp.name} {emp.family} works in {emp.department} with salary ${emp.salary}\")\n"
      ],
      "metadata": {
        "colab": {
          "base_uri": "https://localhost:8080/"
        },
        "id": "XBeMtkoIx39b",
        "outputId": "67ab3037-e31a-4e50-f521-8f4358261eec"
      },
      "execution_count": 12,
      "outputs": [
        {
          "output_type": "stream",
          "name": "stdout",
          "text": [
            "Total Employees: 3\n",
            "Average Salary: $55000.0\n",
            "Alice Smith works in HR with salary $50000\n",
            "Bob Johnson works in Engineering with salary $60000\n",
            "Charlie Williams works in Finance with salary $55000\n"
          ]
        }
      ]
    }
  ]
}